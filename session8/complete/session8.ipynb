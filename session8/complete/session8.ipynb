{
 "cells": [
  {
   "cell_type": "code",
   "execution_count": 1,
   "metadata": {},
   "outputs": [],
   "source": [
    "############## PLEASE RUN THIS CELL FIRST! ###################\n",
    "\n",
    "# import everything and define a test runner function\n",
    "from importlib import reload\n",
    "from helper import run\n",
    "from time import sleep\n",
    "import bloomfilter, merkleblock\n",
    "from block import Block\n",
    "from bloomfilter import BloomFilter, BIP37_CONSTANT\n",
    "from ecc import PrivateKey\n",
    "from helper import bit_field_to_bytes, decode_base58, hash160, hash256, little_endian_to_int, murmur3, SIGHASH_ALL\n",
    "from merkleblock import MerkleBlock\n",
    "from network import GetDataMessage, GetHeadersMessage, HeadersMessage, SimpleNode, FILTERED_BLOCK_DATA_TYPE, TX_DATA_TYPE\n",
    "from script import p2pkh_script\n",
    "from tx import Tx, TxIn, TxOut"
   ]
  },
  {
   "cell_type": "code",
   "execution_count": 2,
   "metadata": {},
   "outputs": [
    {
     "name": "stdout",
     "output_type": "stream",
     "text": [
      "[0, 0, 0, 0, 0, 0, 0, 0, 0, 1]\n"
     ]
    }
   ],
   "source": [
    "# Example Bloom Filter\n",
    "bit_field_size = 10\n",
    "bit_field = [0] * bit_field_size\n",
    "h256 = hash256(b'hello world')\n",
    "bit = int.from_bytes(h256, 'big') % bit_field_size\n",
    "bit_field[bit] = 1\n",
    "print(bit_field)"
   ]
  },
  {
   "cell_type": "code",
   "execution_count": 3,
   "metadata": {},
   "outputs": [
    {
     "name": "stdout",
     "output_type": "stream",
     "text": [
      "[0, 0, 1, 0, 0, 0, 0, 0, 0, 1]\n"
     ]
    }
   ],
   "source": [
    "# Example Bloom Filter 2\n",
    "bit_field_size = 10\n",
    "bit_field = [0] * bit_field_size\n",
    "h = hash256(b'hello world')\n",
    "bit = int.from_bytes(h, 'big') % bit_field_size\n",
    "bit_field[bit] = 1\n",
    "h = hash256(b'goodbye')\n",
    "bit = int.from_bytes(h, 'big') % bit_field_size\n",
    "bit_field[bit] = 1\n",
    "print(bit_field)"
   ]
  },
  {
   "cell_type": "code",
   "execution_count": 4,
   "metadata": {},
   "outputs": [
    {
     "name": "stdout",
     "output_type": "stream",
     "text": [
      "[1, 1, 1, 0, 0, 0, 0, 0, 0, 1]\n"
     ]
    }
   ],
   "source": [
    "# Example Bloom Filter 3\n",
    "bit_field_size = 10\n",
    "bit_field = [0] * bit_field_size\n",
    "phrase1 = b'hello world'\n",
    "h1 = hash256(phrase1)\n",
    "bit1 = int.from_bytes(h1, 'big') % bit_field_size\n",
    "bit_field[bit1] = 1\n",
    "h2 = hash160(phrase1)\n",
    "bit2 = int.from_bytes(h2, 'big') % bit_field_size\n",
    "bit_field[bit2] = 1\n",
    "phrase2 = b'goodbye'\n",
    "h1 = hash256(phrase2)\n",
    "bit1 = int.from_bytes(h1, 'big') % bit_field_size\n",
    "bit_field[bit1] = 1\n",
    "h2 = hash160(phrase2)\n",
    "bit2 = int.from_bytes(h2, 'big') % bit_field_size\n",
    "bit_field[bit2] = 1\n",
    "print(bit_field)"
   ]
  },
  {
   "cell_type": "code",
   "execution_count": 5,
   "metadata": {},
   "outputs": [
    {
     "name": "stdout",
     "output_type": "stream",
     "text": [
      "[0, 0, 0, 0, 0, 1, 1, 0, 0, 1, 1, 0, 0, 0, 0, 0]\n"
     ]
    }
   ],
   "source": [
    "# Example BIP0037 Bloom Filter\n",
    "field_size = 2\n",
    "num_functions = 2\n",
    "tweak = 42\n",
    "bit_field_size = field_size * 8\n",
    "bit_field = [0] * bit_field_size\n",
    "for phrase in (b'hello world', b'goodbye'):\n",
    "    for i in range(num_functions):\n",
    "        seed = i * BIP37_CONSTANT + tweak\n",
    "        h = murmur3(phrase, seed=seed)\n",
    "        bit = h % bit_field_size\n",
    "        bit_field[bit] = 1\n",
    "print(bit_field)"
   ]
  },
  {
   "cell_type": "markdown",
   "metadata": {},
   "source": [
    "### Exercise 1\n",
    "Given a Bloom Filter with these parameters: size=10, function count=5, tweak=99, which bits are set after adding these items?\n",
    "\n",
    "* `b'Hello World'`\n",
    "* `b'Goodbye!'`\n"
   ]
  },
  {
   "cell_type": "code",
   "execution_count": 6,
   "metadata": {},
   "outputs": [
    {
     "name": "stdout",
     "output_type": "stream",
     "text": [
      "4000600a080000010940\n"
     ]
    }
   ],
   "source": [
    "# Exercise 1\n",
    "\n",
    "field_size = 10\n",
    "function_count = 5\n",
    "tweak = 99\n",
    "items = (b'Hello World',  b'Goodbye!')\n",
    "# bit_field_size is 8 * field_size\n",
    "bit_field_size = field_size * 8\n",
    "# create a bit field with the appropriate size\n",
    "bit_field = [0] * bit_field_size\n",
    "# for each item you want to add to the filter\n",
    "for item in items:\n",
    "    # iterate function_count number of times\n",
    "    for i in range(function_count):\n",
    "        # BIP0037 spec seed is i*BIP37_CONSTANT + tweak\n",
    "        seed = i * BIP37_CONSTANT + tweak\n",
    "        # get the murmur3 hash given that seed\n",
    "        h = murmur3(item, seed=seed)\n",
    "        # set the bit to be h mod the bit_field_size\n",
    "        bit = h % bit_field_size\n",
    "        # set the bit_field at the index bit to be 1\n",
    "        bit_field[bit] = 1\n",
    "# print the bit field converted to bytes using bit_field_to_bytes in hex\n",
    "print(bit_field_to_bytes(bit_field).hex())"
   ]
  },
  {
   "cell_type": "markdown",
   "metadata": {},
   "source": [
    "### Exercise 2\n",
    "\n",
    "\n",
    "\n",
    "\n",
    "#### Make [this test](/edit/session8/bloomfilter.py) pass: `bloomfilter.py:BloomFilterTest:test_add`"
   ]
  },
  {
   "cell_type": "code",
   "execution_count": 7,
   "metadata": {},
   "outputs": [
    {
     "name": "stderr",
     "output_type": "stream",
     "text": [
      ".\n",
      "----------------------------------------------------------------------\n",
      "Ran 1 test in 0.001s\n",
      "\n",
      "OK\n"
     ]
    }
   ],
   "source": [
    "# Exercise 2\n",
    "\n",
    "reload(bloomfilter)\n",
    "run(bloomfilter.BloomFilterTest('test_add'))"
   ]
  },
  {
   "cell_type": "markdown",
   "metadata": {},
   "source": [
    "### Exercise 3\n",
    "\n",
    "\n",
    "\n",
    "\n",
    "#### Make [this test](/edit/session8/bloomfilter.py) pass: `bloomfilter.py:BloomFilterTest:test_filterload`"
   ]
  },
  {
   "cell_type": "code",
   "execution_count": 8,
   "metadata": {},
   "outputs": [
    {
     "name": "stderr",
     "output_type": "stream",
     "text": [
      ".\n",
      "----------------------------------------------------------------------\n",
      "Ran 1 test in 0.001s\n",
      "\n",
      "OK\n"
     ]
    }
   ],
   "source": [
    "# Exercise 3\n",
    "\n",
    "reload(bloomfilter)\n",
    "run(bloomfilter.BloomFilterTest('test_filterload'))"
   ]
  },
  {
   "cell_type": "markdown",
   "metadata": {},
   "source": [
    "### Exercise 4\n",
    "Do the following:\n",
    "\n",
    "* Connect to a testnet node\n",
    "* Load a filter for your testnet address\n",
    "* Send a request for transactions from the block which had your previous testnet transaction\n",
    "* Receive the merkleblock and tx messages.\n"
   ]
  },
  {
   "cell_type": "code",
   "execution_count": 9,
   "metadata": {},
   "outputs": [
    {
     "name": "stdout",
     "output_type": "stream",
     "text": [
      "mseRGXB89UTFVkWJhTRTzzZ9Ujj4ZPbGK5\n",
      "01000000013fdfef60ecd21c5e667cfe30fcb890a116688ca51ac3880f91008dd141ddcdb2080000006b483045022100b0453c379054fe909ce09d6a37eba3b8fc1fc4b7dcbe34e6a21125a513189ab402200ccefbb93951f881c93b195ae5f0d93c14aa1eda9680274bc0169f2089f778c20121031dbe3aff7b9ad64e2612b8b15e9f5e4a3130663a526df91abfb7b1bd16de5d6effffffff0280969800000000001976a914850af0029eb376691c3eef244c25eceb4e50c50388ace19c5a81000000001976a9146e13971913b9aa89659a9f53d327baa8826f2d7588ac00000000\n"
     ]
    }
   ],
   "source": [
    "# Exercise 4\n",
    "\n",
    "from bloomfilter import BloomFilter\n",
    "block_hash = bytes.fromhex('00000000000377db7fde98411876c53e318a395af7304de298fd47b7c549d125')\n",
    "passphrase = b'Jimmy Song'\n",
    "secret = little_endian_to_int(hash256(passphrase))\n",
    "private_key = PrivateKey(secret=secret)\n",
    "addr = private_key.point.address(testnet=True)\n",
    "print(addr)\n",
    "filter_size = 30\n",
    "filter_num_functions = 5\n",
    "filter_tweak = 90210\n",
    "# get the hash160 of the address using decode_base58\n",
    "h160 = decode_base58(addr)\n",
    "# create a bloom filter using the filter_size, filter_num_functions and filter_tweak above\n",
    "bf = BloomFilter(filter_size, filter_num_functions, filter_tweak)\n",
    "# add the h160 to the bloom filter\n",
    "bf.add(h160)\n",
    "# connect to tbtc.programmingblockchain.com in testnet mode\n",
    "node = SimpleNode('tbtc.programmingblockchain.com', testnet=True)\n",
    "# complete the handshake\n",
    "node.handshake()\n",
    "# send the filterload message\n",
    "node.send(bf.filterload())\n",
    "# create a getdata message\n",
    "getdata = GetDataMessage()\n",
    "# add_data (FILTERED_BLOCK_DATA_TYPE, block_hash) to request the block\n",
    "getdata.add_data(FILTERED_BLOCK_DATA_TYPE, block_hash)\n",
    "# send the getdata message\n",
    "node.send(getdata)\n",
    "# wait for the merkleblock command\n",
    "mb = node.wait_for(MerkleBlock)\n",
    "# wait for the tx command\n",
    "tx_obj = node.wait_for(Tx)\n",
    "# print the envelope payload in hex\n",
    "print(tx_obj.serialize().hex())"
   ]
  },
  {
   "cell_type": "markdown",
   "metadata": {},
   "source": [
    "### Exercise 5\n",
    "\n",
    "\n",
    "\n",
    "\n",
    "#### Make [this test](/edit/session8/merkleblock.py) pass: `merkleblock.py:MerkleBlockTest:test_is_valid`"
   ]
  },
  {
   "cell_type": "code",
   "execution_count": 10,
   "metadata": {},
   "outputs": [
    {
     "name": "stderr",
     "output_type": "stream",
     "text": [
      ".\n",
      "----------------------------------------------------------------------\n",
      "Ran 1 test in 0.001s\n",
      "\n",
      "OK\n"
     ]
    }
   ],
   "source": [
    "# Exercise 5\n",
    "\n",
    "reload(merkleblock)\n",
    "run(merkleblock.MerkleBlockTest('test_is_valid'))"
   ]
  },
  {
   "cell_type": "markdown",
   "metadata": {},
   "source": [
    "### Exercise 6\n",
    "You have been sent some unknown amount of testnet bitcoins to your address.\n",
    "\n",
    "Send all of it back (minus fees) to `mwJn1YPMq7y5F8J3LkC5Hxg9PHyZ5K4cFv` using only the networking protocol.\n",
    "\n",
    "This should be a 1 input, 1 output transaction.\n",
    "\n",
    "Remember turn on logging in `SimpleNode` if you need to debug\n"
   ]
  },
  {
   "cell_type": "code",
   "execution_count": 11,
   "metadata": {},
   "outputs": [
    {
     "name": "stdout",
     "output_type": "stream",
     "text": [
      "0100000001c2d4d9c372e8e24adb77236d33de2126b2cf80c3b1199e4706a652d5814c392c000000006a47304402205b90755998b0a16b51c0168c471eb126381a28bf51eccc661918e7cffdb8110202206a1887fb3c197f003eb1ce1fbf203c80820050b73cebc02f60fb08d82b1fb66d012103dc585d46cfca73f3a75ba1ef0c5756a21c1924587480700c6eb64e3f75d22083ffffffff01cc80a100000000001976a914ad346f8eb57dee9a37981716e498120ae80e44f788ac00000000\n",
      "success!\n",
      "d3c1913e778a451759db4df9c8c55b2575c855608271c5044b26ebcd02791564\n"
     ]
    }
   ],
   "source": [
    "# Exercise 6\n",
    "\n",
    "from merkleblock import MerkleBlock, MerkleTree\n",
    "last_block_hex = '00000000000377db7fde98411876c53e318a395af7304de298fd47b7c549d125'\n",
    "last_block = bytes.fromhex(last_block_hex)\n",
    "passphrase = b'Jimmy Song'\n",
    "secret = little_endian_to_int(hash256(passphrase))\n",
    "private_key = PrivateKey(secret=secret)\n",
    "addr = private_key.point.address(testnet=True)\n",
    "h160 = decode_base58(addr)\n",
    "target_address = 'mwJn1YPMq7y5F8J3LkC5Hxg9PHyZ5K4cFv'\n",
    "filter_size = 30\n",
    "filter_num_functions = 5\n",
    "filter_tweak = 90210\n",
    "target_h160 = decode_base58(target_address)\n",
    "target_script = p2pkh_script(target_h160)\n",
    "fee = 5000  # fee in satoshis\n",
    "# connect to tbtc.programmingblockchain.com in testnet mode, logging True\n",
    "node = SimpleNode('tbtc.programmingblockchain.com', testnet=True)\n",
    "# create a bloom filter using variables above\n",
    "bf = BloomFilter(filter_size, filter_num_functions, filter_tweak)\n",
    "# add the h160 to the bloom filter\n",
    "bf.add(h160)\n",
    "# complete the handshake\n",
    "node.handshake()\n",
    "# send the 'filterload' message\n",
    "node.send(bf.filterload())\n",
    "# create GetHeadersMessage with the last_block as the start_block\n",
    "getheaders = GetHeadersMessage(start_block=last_block)\n",
    "# send a getheaders message\n",
    "node.send(getheaders)\n",
    "# wait for the headers message\n",
    "headers = node.wait_for(HeadersMessage)\n",
    "# initialize the GetDataMessage\n",
    "getdata = GetDataMessage()\n",
    "# loop through the headers in the headers message\n",
    "for header in headers.headers:\n",
    "    # check that the proof of work on the block is valid\n",
    "    if not header.check_pow():\n",
    "        raise RuntimeError\n",
    "    # check that this block's prev_block is the last block\n",
    "    if last_block is not None and header.prev_block != last_block:\n",
    "        raise RuntimeError\n",
    "    # set the last block to the current hash\n",
    "    last_block = header.hash()\n",
    "    # add_data(FILTERED_BLOCK_DATA_TYPE, last_block) to get_data_message\n",
    "    getdata.add_data(FILTERED_BLOCK_DATA_TYPE, last_block)\n",
    "# send the getdata message\n",
    "node.send(getdata)\n",
    "# initialize prev_tx to None\n",
    "prev_tx = None\n",
    "# while prev_tx is None\n",
    "while prev_tx is None:\n",
    "    # wait for the merkleblock or tx commands\n",
    "    message = node.wait_for(MerkleBlock, Tx)\n",
    "    # if we have the merkleblock command\n",
    "    if message.command == b'merkleblock':\n",
    "        # check that the MerkleBlock is valid\n",
    "        if not message.is_valid():\n",
    "            raise RuntimeError\n",
    "    # else we have the tx command\n",
    "    else:\n",
    "        # set message.testnet=True\n",
    "        message.testnet = True\n",
    "        # loop through the enumerated tx outs (enumerate(message.tx_outs))\n",
    "        for i, tx_out in enumerate(message.tx_outs):\n",
    "            # if our output has the same address as our address (addr) we found it\n",
    "            if tx_out.script_pubkey.address(testnet=True) == addr:\n",
    "                # we found our utxo. set prev_tx, prev_index, prev_amount\n",
    "                prev_tx = message.hash()\n",
    "                prev_index = i\n",
    "                prev_amount = tx_out.amount\n",
    "                # break\n",
    "                break\n",
    "# create tx_in\n",
    "tx_in = TxIn(prev_tx, prev_index)\n",
    "# calculate the output amount (prev_amount - fee)\n",
    "output_amount = prev_amount - fee\n",
    "# create tx_out\n",
    "tx_out = TxOut(output_amount, target_script)\n",
    "# create transaction on testnet\n",
    "tx_obj = Tx(1, [tx_in], [tx_out], 0, testnet=True)\n",
    "# sign the one input we have\n",
    "tx_obj.sign_input(0, private_key)\n",
    "# serialize and hex to see what it looks like\n",
    "print(tx_obj.serialize().hex())\n",
    "# send this signed transaction on the network\n",
    "node.send(tx_obj)\n",
    "# wait a sec so this message goes through to the other node sleep(1)\n",
    "sleep(1)\n",
    "# now ask for this transaction from the other node\n",
    "# create a GetDataMessage\n",
    "getdata = GetDataMessage()\n",
    "# add_data (TX_DATA_TYPE, tx_obj.hash()) to get data message\n",
    "getdata.add_data(TX_DATA_TYPE, tx_obj.hash())\n",
    "# send the GetDataMessage\n",
    "node.send(getdata)\n",
    "# now wait for a response\n",
    "got = node.wait_for(Tx)\n",
    "if got.id() == tx_obj.id():\n",
    "    # yes! we got to what we wanted\n",
    "    print('success!')\n",
    "    print(tx_obj.id())"
   ]
  }
 ],
 "metadata": {
  "kernelspec": {
   "display_name": "Python 3",
   "language": "python",
   "name": "python3"
  },
  "language_info": {
   "codemirror_mode": {
    "name": "ipython",
    "version": 3
   },
   "file_extension": ".py",
   "mimetype": "text/x-python",
   "name": "python",
   "nbconvert_exporter": "python",
   "pygments_lexer": "ipython3",
   "version": "3.6.5"
  }
 },
 "nbformat": 4,
 "nbformat_minor": 2
}
